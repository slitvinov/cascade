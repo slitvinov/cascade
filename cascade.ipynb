{
 "cells": [
  {
   "cell_type": "markdown",
   "metadata": {
    "id": "L9GNIt34-yK2"
   },
   "source": [
    "[![Open In Colab](https://colab.research.google.com/assets/colab-badge.svg)](https://colab.research.google.com/github/slitvinov/cascade/blob/main/cascade.ipynb)"
   ]
  },
  {
   "cell_type": "code",
   "execution_count": null,
   "metadata": {},
   "outputs": [],
   "source": [
    "import matplotlib.pyplot as plt\n",
    "import functools\n",
    "import fractions\n",
    "import numpy as np\n",
    "import statistics\n",
    "\n",
    "\n",
    "def cascade(h, level):\n",
    "\n",
    "    @functools.cache\n",
    "    def phi(x):\n",
    "        return vec.get(x, 0) if x.is_integer() else statistics.fsum(\n",
    "            c * phi(2 * x - k) for k, c in enumerate(h))\n",
    "\n",
    "    def psi(x):\n",
    "        return statistics.fsum(c * phi(2 * x - k) for k, c in enumerate(g))\n",
    "\n",
    "    def qmf(h):\n",
    "        return [(-1)**k * h[F - 1 - k] for k in range(F)]\n",
    "\n",
    "    F = len(h)\n",
    "    g = qmf(h)\n",
    "    L = [[h[2 * i - j] if 0 <= 2 * i - j < F else 0 for j in range(1, F - 1)]\n",
    "         for i in range(1, F - 1)]\n",
    "    val, vec = np.linalg.eig(L)\n",
    "    vec = dict((i + 1, x) for i, x in enumerate(vec[:, 0]))\n",
    "    ts = sorted({\n",
    "        fractions.Fraction(k, 1 << i)\n",
    "        for i in range(level)\n",
    "        for k in range((F - 1) * (1 << i))\n",
    "    })\n",
    "    return ts, [phi(t) for t in ts], [psi(t) for t in ts]\n",
    "\n",
    "\n",
    "h = (1 + 3**0.5) / 4, (3 + 3**0.5) / 4, (3 - 3**0.5) / 4, (1 - 3**0.5) / 4\n",
    "ts, phi, psi = cascade(h, 13)\n",
    "plt.plot(ts, phi, 'b', ts, psi, 'r');"
   ]
  }
 ],
 "metadata": {
  "colab": {
   "provenance": []
  },
  "kernelspec": {
   "display_name": "Python 3 (ipykernel)",
   "language": "python",
   "name": "python3"
  },
  "language_info": {
   "codemirror_mode": {
    "name": "ipython",
    "version": 3
   },
   "file_extension": ".py",
   "mimetype": "text/x-python",
   "name": "python",
   "nbconvert_exporter": "python",
   "pygments_lexer": "ipython3",
   "version": "3.10.12"
  }
 },
 "nbformat": 4,
 "nbformat_minor": 4
}
